{
  "cells": [
    {
      "cell_type": "markdown",
      "metadata": {
        "id": "9Bu3MsdATTg5"
      },
      "source": [
        "# Deep Reinforcement Learning on Atari Games\n",
        "\n",
        "Created by Paul Scott<br>\n",
        "MSE Computer and Information Science<br>\n",
        "University of Pennsylvania<br>"
      ]
    },
    {
      "cell_type": "markdown",
      "metadata": {
        "id": "jTtge015eNb_"
      },
      "source": [
        "# References\n",
        "\n",
        "* https://pytorch.org/tutorials/intermediate/reinforcement_q_learning.html\n",
        "* https://keras.io/examples/rl/deep_q_network_breakout/\n",
        "* https://github.com/mgbellemare/Arcade-Learning-Environment\n",
        "* https://github.com/kenjyoung/MinAtar\n",
        "* https://arxiv.org/pdf/1509.06461.pdf"
      ]
    },
    {
      "cell_type": "markdown",
      "metadata": {
        "id": "uJ1oZGlbYNG9"
      },
      "source": [
        "# Setup"
      ]
    },
    {
      "cell_type": "markdown",
      "metadata": {
        "id": "e2gMROoWp6OF"
      },
      "source": [
        "### Download Required Packages"
      ]
    },
    {
      "cell_type": "code",
      "execution_count": null,
      "metadata": {
        "id": "MJAdFbeDp7qY"
      },
      "outputs": [],
      "source": [
        "%%capture\n",
        "!git clone https://github.com/kenjyoung/MinAtar.git\n",
        "%pip install ./MinAtar\n",
        "%pip install --upgrade gym\n",
        "%pip install ale-py\n",
        "%pip install torchinfo\n",
        "%pip install autorom[accept-rom-license]"
      ]
    },
    {
      "cell_type": "markdown",
      "metadata": {
        "id": "NFzAu6a-YdDm"
      },
      "source": [
        "### Download ROMs for ALE Environment"
      ]
    },
    {
      "cell_type": "code",
      "execution_count": null,
      "metadata": {
        "colab": {
          "base_uri": "https://localhost:8080/"
        },
        "id": "zRrNVDg5OoAD",
        "outputId": "92eef72e-9815-4b0c-923d-f874585a2ccc"
      },
      "outputs": [],
      "source": [
        "!mkdir roms/\n",
        "!yes | AutoROM -d roms/\n",
        "!ale-import-roms roms/"
      ]
    },
    {
      "cell_type": "markdown",
      "metadata": {
        "id": "xCMw20MnYb5W"
      },
      "source": [
        "### Imports"
      ]
    },
    {
      "cell_type": "code",
      "execution_count": 15,
      "metadata": {
        "id": "cQLvpYpHYRmj"
      },
      "outputs": [],
      "source": [
        "import torch\n",
        "import torch.nn as nn\n",
        "import torch.nn.functional as F\n",
        "from torch.optim import Adam\n",
        "from ale_py import ALEInterface\n",
        "import matplotlib.pyplot as plt\n",
        "from matplotlib import animation, colors\n",
        "from collections import namedtuple, deque\n",
        "from itertools import count\n",
        "from IPython import display\n",
        "import random\n",
        "from PIL import Image\n",
        "from torchinfo import summary\n",
        "import numpy as np\n",
        "import seaborn as sns\n",
        "import gym\n",
        "\n",
        "# use gpu if available\n",
        "device = torch.device('cuda' if torch.cuda.is_available() else 'cpu')\n",
        "\n",
        "# configure matplotlib\n",
        "%matplotlib inline \n",
        "%config InlineBackend.figure_format = 'retina'\n",
        "plt.rcParams.update(plt.rcParamsDefault)\n",
        "plt.rc('animation', html='jshtml')"
      ]
    },
    {
      "cell_type": "markdown",
      "metadata": {
        "id": "ktEsqgJD47Q0"
      },
      "source": [
        "# Environment Setup"
      ]
    },
    {
      "cell_type": "markdown",
      "metadata": {
        "id": "PFSkrRzG96g6"
      },
      "source": [
        "### Define Base Environment Class"
      ]
    },
    {
      "cell_type": "code",
      "execution_count": 16,
      "metadata": {
        "id": "lhZuL39z7JOd"
      },
      "outputs": [],
      "source": [
        "class AbstractEnvironment():\n",
        "  def __init__(self, num_actions, state_shape, cmap=None, aspect=None):\n",
        "    self.num_actions = num_actions\n",
        "    self.state_shape = state_shape\n",
        "    self.num_channels = state_shape[1]\n",
        "    self.cmap = cmap\n",
        "    self.aspect = aspect\n",
        "    self.crop = None\n",
        "\n",
        "  def reset(self):\n",
        "    pass\n",
        "\n",
        "  def step(self, action, frame_skip=0):\n",
        "    pass\n",
        "\n",
        "  def game_over(self):\n",
        "    pass\n",
        "  \n",
        "  def render(self):\n",
        "    pass"
      ]
    },
    {
      "cell_type": "markdown",
      "metadata": {
        "id": "QDgm7NVf6KJo"
      },
      "source": [
        "### Define ALE Environment"
      ]
    },
    {
      "cell_type": "code",
      "execution_count": 17,
      "metadata": {
        "id": "CC0liyHA4a2N"
      },
      "outputs": [],
      "source": [
        "class ALEEnvironment(AbstractEnvironment):\n",
        "  def __init__(self, game, stack_size=4, stack_rgb=False, initial_action=None, initial_delay=0):\n",
        "    self.env = ALEInterface()\n",
        "    self.env.loadROM(game)\n",
        "    self.env.setFloat('repeat_action_probability', 0)\n",
        "    self.frame_stack = deque()\n",
        "    self.action_space = self.env.getMinimalActionSet()\n",
        "    self.stack_size = stack_size\n",
        "    self.stack_rgb = stack_rgb\n",
        "    self.initial_action = initial_action\n",
        "    self.initial_delay = initial_delay\n",
        "    num_channels = stack_size * (3 if stack_rgb else 1)\n",
        "    super().__init__(len(self.action_space), (1, num_channels, 84, 84), aspect='auto')\n",
        "\n",
        "  def reset(self):\n",
        "    self.env.reset_game()\n",
        "    for _ in range(self.initial_delay):\n",
        "      self.env.act(self.action_space[self.initial_action])\n",
        "    padding_size = self.num_channels - (3 if self.stack_rgb else 1)\n",
        "    self.frame_stack = deque([torch.zeros((84, 84))] * padding_size + [frame for frame in self.get_frame()])\n",
        "    return self.format_state(self.frame_stack)\n",
        "\n",
        "  def step(self, action, frame_skip=0):\n",
        "    lives = self.env.lives()\n",
        "    reward = self.env.act(self.action_space[action])\n",
        "    for _ in range(frame_skip):\n",
        "      reward += self.env.act(self.action_space[action])\n",
        "    self.frame_stack.popleft()\n",
        "    if self.stack_rgb:\n",
        "      self.frame_stack.popleft()\n",
        "      self.frame_stack.popleft()\n",
        "    self.frame_stack += [frame for frame in self.get_frame()]\n",
        "    next_state = self.format_state(self.frame_stack)\n",
        "    done = self.env.lives() != lives or self.env.game_over()\n",
        "    return next_state, reward, done\n",
        "\n",
        "  def game_over(self):\n",
        "    return self.env.game_over()\n",
        "\n",
        "  def render(self):\n",
        "    return self.env.getScreenRGB()\n",
        "\n",
        "  def format_state(self, state):\n",
        "    return torch.stack(tuple(state)).unsqueeze(0).to(device)\n",
        "\n",
        "  def get_frame(self, channel_first=True):\n",
        "    if self.stack_rgb:\n",
        "      screen = Image.fromarray(self.env.getScreenRGB())\n",
        "    else:\n",
        "      screen = Image.fromarray(self.env.getScreenGrayscale())\n",
        "    if self.crop:\n",
        "      screen = screen.crop(self.crop)\n",
        "    screen = screen.resize((84, 84), Image.BILINEAR)\n",
        "    screen = torch.Tensor(np.asarray(screen)) / 255.0\n",
        "    if channel_first:\n",
        "      if self.stack_rgb:\n",
        "        screen = screen.permute(2, 0, 1)\n",
        "      else:\n",
        "        screen = screen.unsqueeze(0)\n",
        "    return screen.float()"
      ]
    },
    {
      "cell_type": "markdown",
      "metadata": {
        "id": "f-v5octU6L5W"
      },
      "source": [
        "### Define MinAtar Environment"
      ]
    },
    {
      "cell_type": "code",
      "execution_count": 18,
      "metadata": {
        "id": "DxVR23X-53yl"
      },
      "outputs": [],
      "source": [
        "class MinAtarEnvironment(AbstractEnvironment):\n",
        "  def __init__(self, game):\n",
        "    self.env = gym.make(f'MinAtar/{game}')\n",
        "    self.finished = False\n",
        "    state_shape = self.format_state(self.env.render(mode='array')).shape\n",
        "    cmap = sns.color_palette(\"cubehelix\", state_shape[1])\n",
        "    cmap.insert(0, (0, 0, 0))\n",
        "    cmap = colors.ListedColormap(cmap)\n",
        "    super().__init__(self.env.action_space.n, state_shape, cmap=cmap)\n",
        "\n",
        "  def reset(self):\n",
        "    self.finished = False\n",
        "    return self.format_state(self.env.reset())\n",
        "\n",
        "  def step(self, action, frame_skip=None):\n",
        "    next_state, reward, done, _ = self.env.step(action)\n",
        "    next_state = self.format_state(next_state)\n",
        "    self.finished = done\n",
        "    return next_state, reward, done\n",
        "\n",
        "  def game_over(self):\n",
        "    return self.finished\n",
        "\n",
        "  def render(self):\n",
        "    return np.amax(self.env.render(mode='array') * \\\n",
        "        np.reshape(np.arange(self.num_channels) + 1, (1, 1, -1)), 2) + 0.5\n",
        "\n",
        "  def format_state(self, state):\n",
        "    return torch.tensor(state, device=device).permute(2, 0, 1).unsqueeze(0).float()"
      ]
    },
    {
      "cell_type": "markdown",
      "metadata": {
        "id": "aQnhQGxRBIr4"
      },
      "source": [
        "### Select Environment"
      ]
    },
    {
      "cell_type": "code",
      "execution_count": 19,
      "metadata": {
        "id": "8rqFjgx45P8B"
      },
      "outputs": [
        {
          "name": "stderr",
          "output_type": "stream",
          "text": [
            "A.L.E: Arcade Learning Environment (version 0.7.5+db37282)\n",
            "[Powered by Stella]\n",
            "Game console created:\n",
            "  ROM file:  /home/paulscott/anaconda3/lib/python3.9/site-packages/ale_py/roms/breakout.bin\n",
            "  Cart Name: Breakout - Breakaway IV (1978) (Atari)\n",
            "  Cart MD5:  f34f08e5eb96e500e851a80be3277a56\n",
            "  Display Format:  AUTO-DETECT ==> NTSC\n",
            "  ROM Size:        2048\n",
            "  Bankswitch Type: AUTO-DETECT ==> 2K\n",
            "\n",
            "Running ROM file...\n",
            "Random seed is 1654610605\n"
          ]
        }
      ],
      "source": [
        "from ale_py.roms import Breakout\n",
        "env = ALEEnvironment(Breakout, stack_size=2, initial_action=1, initial_delay=1)\n",
        "\n",
        "# env = MinAtarEnvironment('Breakout-v1')"
      ]
    },
    {
      "cell_type": "markdown",
      "metadata": {
        "id": "drlWAaJDLcrS"
      },
      "source": [
        "### Crop and Preview Game\n",
        "(ALE only)\n",
        "\n",
        "| Game | Crop |\n",
        "| ---- | ---- |\n",
        "| Breakout | (8, 94, width - 8, height - 16) |\n",
        "| Kaboom | (8, 52, width - 8, height - 22) |\n",
        "| Ms. Pacman | (4, 2, width - 4, height - 40) |\n",
        "| Skiing | (8, 24, width - 8, height - 24)|"
      ]
    },
    {
      "cell_type": "code",
      "execution_count": 20,
      "metadata": {
        "colab": {
          "base_uri": "https://localhost:8080/",
          "height": 406
        },
        "id": "TFDFMC5jLeKy",
        "outputId": "e6cf97cf-700d-4b6e-d17a-343538232284"
      },
      "outputs": [
        {
          "data": {
            "image/png": "[encoded data removed]",
            "text/plain": [
              "<Figure size 640x480 with 1 Axes>"
            ]
          },
          "metadata": {
            "image/png": {
              "height": 389,
              "width": 389
            }
          },
          "output_type": "display_data"
        }
      ],
      "source": [
        "if isinstance(env, ALEEnvironment):\n",
        "  width = env.env.getScreenDims()[1]\n",
        "  height =  env.env.getScreenDims()[0]\n",
        "  env.crop = (8, 32, width - 8, height - 16)\n",
        "\n",
        "  plt.imshow(env.get_frame(channel_first=False))\n",
        "  plt.axis('off')\n",
        "  plt.show()"
      ]
    },
    {
      "cell_type": "markdown",
      "metadata": {
        "id": "abiCnasNYuc3"
      },
      "source": [
        "# Agent Setup"
      ]
    },
    {
      "cell_type": "markdown",
      "metadata": {
        "id": "UIJRriPC4MPJ"
      },
      "source": [
        "### Define ALE DQN"
      ]
    },
    {
      "cell_type": "code",
      "execution_count": 21,
      "metadata": {
        "id": "26kfpBcb3LKh"
      },
      "outputs": [],
      "source": [
        "class ALEDQN(nn.Module):\n",
        "  def __init__(self):\n",
        "    super().__init__()\n",
        "    self.conv1 = nn.Conv2d(env.num_channels, 32, 8, stride=4)\n",
        "    self.conv2 = nn.Conv2d(32, 64, 4, stride=2)\n",
        "    self.conv3 = nn.Conv2d(64, 64, 3, stride=1)\n",
        "    self.fc1 = nn.Linear(64*7*7, 512)\n",
        "    self.fc2 = nn.Linear(512, env.num_actions)\n",
        "\n",
        "  def forward(self, x):\n",
        "    # 3x84x84\n",
        "    x = F.relu(self.conv1(x))\n",
        "    \n",
        "    # 32x20x20\n",
        "    x = F.relu(self.conv2(x))\n",
        "\n",
        "    # 64x9x9\n",
        "    x = F.relu(self.conv3(x))\n",
        "\n",
        "    # 64x7x7\n",
        "    x = F.relu(self.fc1(x.flatten(start_dim=1)))\n",
        "    x = self.fc2(x)\n",
        "\n",
        "    return x"
      ]
    },
    {
      "cell_type": "markdown",
      "metadata": {
        "id": "RF8yenhP4N8j"
      },
      "source": [
        "### Define MinAtar DQN"
      ]
    },
    {
      "cell_type": "code",
      "execution_count": 22,
      "metadata": {
        "id": "R7lI_3jZ3ckJ"
      },
      "outputs": [],
      "source": [
        "class MinAtarDQN(nn.Module):\n",
        "  def __init__(self):\n",
        "    super().__init__()\n",
        "    self.conv1 = nn.Conv2d(env.num_channels, 32, 3, padding='same')\n",
        "    self.conv2 = nn.Conv2d(32, 64, 3, padding='same')\n",
        "    self.fc1 = nn.Linear(64*2*2, 512)\n",
        "    self.fc2 = nn.Linear(512, env.num_actions)\n",
        "    self.maxpool = nn.MaxPool2d(2, 2)\n",
        "\n",
        "  def forward(self, x):\n",
        "    # 4x10x10\n",
        "    x = F.relu(self.conv1(x))\n",
        "    x = self.maxpool(x)\n",
        "    \n",
        "    # 32x5x5\n",
        "    x = F.relu(self.conv2(x))\n",
        "    x = self.maxpool(x)\n",
        "\n",
        "    # 64x2x2\n",
        "    x = F.relu(self.fc1(x.flatten(start_dim=1)))\n",
        "    x = self.fc2(x)\n",
        "\n",
        "    return x"
      ]
    },
    {
      "cell_type": "markdown",
      "metadata": {
        "id": "sLbWM3ZN4Pm8"
      },
      "source": [
        "### Select DQN"
      ]
    },
    {
      "cell_type": "code",
      "execution_count": 23,
      "metadata": {
        "colab": {
          "base_uri": "https://localhost:8080/"
        },
        "id": "GKbzSQNr4FmV",
        "outputId": "5b13108f-3f12-4c6c-af51-55a204c4defe"
      },
      "outputs": [
        {
          "data": {
            "text/plain": [
              "=================================================================\n",
              "Layer (type:depth-idx)                   Param #\n",
              "=================================================================\n",
              "ALEDQN                                   --\n",
              "├─Conv2d: 1-1                            4,128\n",
              "├─Conv2d: 1-2                            32,832\n",
              "├─Conv2d: 1-3                            36,928\n",
              "├─Linear: 1-4                            1,606,144\n",
              "├─Linear: 1-5                            2,052\n",
              "=================================================================\n",
              "Total params: 1,682,084\n",
              "Trainable params: 1,682,084\n",
              "Non-trainable params: 0\n",
              "================================================================="
            ]
          },
          "execution_count": 23,
          "metadata": {},
          "output_type": "execute_result"
        }
      ],
      "source": [
        "dqn_class = ALEDQN if isinstance(env, ALEEnvironment) else MinAtarDQN\n",
        "summary(dqn_class(), input_shape=env.state_shape)"
      ]
    },
    {
      "cell_type": "markdown",
      "metadata": {
        "id": "163ErxValvhg"
      },
      "source": [
        "# Training"
      ]
    },
    {
      "cell_type": "markdown",
      "metadata": {
        "id": "v8MTrTowFHK6"
      },
      "source": [
        "Double DQN target Q-values:<br>\n",
        "$Y_t = R_{t+1}+\\gamma Q_{target}(S_{t+1}, argmax_a Q(S_{t+1}, a))$"
      ]
    },
    {
      "cell_type": "markdown",
      "metadata": {
        "id": "X_YRqk3yQw6M"
      },
      "source": [
        "### Define Training Functions"
      ]
    },
    {
      "cell_type": "code",
      "execution_count": 26,
      "metadata": {},
      "outputs": [],
      "source": [
        "Transition = namedtuple('Transition', ('state', 'action', 'reward', 'next_state'))\n",
        "\n",
        "class ReplayMemory(object):\n",
        "  def __init__(self, size):\n",
        "    self.memory = deque([], maxlen=size)\n",
        "\n",
        "  def push(self, *args):\n",
        "    self.memory.append(Transition(*args))\n",
        "\n",
        "  def sample(self, batch_size):\n",
        "    return random.sample(self.memory, batch_size)\n",
        "\n",
        "  def __len__(self):\n",
        "    return len(self.memory)\n",
        "\n",
        "\n",
        "def train_dqn():\n",
        "  global dqn, dqn_target, optimizer, replay_memory, batch_size\n",
        "\n",
        "  if len(replay_memory) < batch_size:\n",
        "    return\n",
        "\n",
        "  # sample replay memory\n",
        "  states, actions, rewards, next_states, final_indices = sample_replay_memory()\n",
        "\n",
        "  # get q values from primary dqn\n",
        "  q_values = dqn(states).gather(1, actions)\n",
        "\n",
        "  # use double dqn or regular dqn\n",
        "  expected_q_values = get_expected_q_values(rewards, next_states, final_indices)\n",
        "\n",
        "  # calculate loss\n",
        "  loss = criterion(q_values, expected_q_values)\n",
        "\n",
        "  # update network\n",
        "  optimizer.zero_grad()\n",
        "  loss.backward()\n",
        "  for param in dqn.parameters():\n",
        "    param.grad.data.clamp_(-1, 1)\n",
        "  optimizer.step()\n",
        "\n",
        "\n",
        "def sample_replay_memory():\n",
        "  global batch_size\n",
        "\n",
        "  # get batch of transitions from replay memory\n",
        "  transitions = replay_memory.sample(batch_size)\n",
        "  transition_batch = Transition(*zip(*transitions))\n",
        "\n",
        "  # get next states that are not final states\n",
        "  final_indices = torch.tensor([next_state is None for next_state in transition_batch.next_state])\n",
        "\n",
        "  # separate transitions batch by state, action, reward\n",
        "  states = torch.cat(transition_batch.state)\n",
        "  actions = torch.cat(transition_batch.action)\n",
        "  rewards = torch.cat(transition_batch.reward)\n",
        "  next_states = torch.cat([next_state for next_state in transition_batch.next_state if next_state is not None])\n",
        "\n",
        "  return states, actions, rewards, next_states, final_indices\n",
        "\n",
        "\n",
        "def get_expected_q_values(rewards, next_states, final_indices):\n",
        "  global dqn, dqn_target, batch_size\n",
        "\n",
        "  # get best actions for next state using primary dqn\n",
        "  best_actions = dqn(next_states).max(1)[1].unsqueeze(1)\n",
        "\n",
        "  # calculate future rewards using target dqn using above actions\n",
        "  future_rewards = torch.zeros((batch_size, 1), device=device)\n",
        "  future_rewards[~final_indices] = dqn_target(next_states).gather(1, best_actions)\n",
        "\n",
        "  # get current q values and calculate expected q values\n",
        "  expected_q_values = rewards.unsqueeze(1) + (gamma * future_rewards)\n",
        "  expected_q_values[final_indices] = -1.0\n",
        "\n",
        "  return expected_q_values\n",
        "\n",
        "\n",
        "def select_action(state):\n",
        "  global epsilon, epsilon_start, epsilon_end, epsilon_random_frames, epsilon_greedy_frames, steps, dqn\n",
        "  if steps < epsilon_random_frames or epsilon > random.random():\n",
        "    action = torch.tensor([[random.randrange(env.num_actions)]], device=device, dtype=torch.long)\n",
        "  else:\n",
        "     with torch.no_grad():\n",
        "      action = dqn(state).max(1)[1].view(1, 1)\n",
        "  steps += 1\n",
        "  if steps >= epsilon_random_frames:\n",
        "    epsilon = epsilon_end + (epsilon_start - epsilon_end) / np.exp((steps - epsilon_random_frames) / epsilon_greedy_frames)\n",
        "  return action\n",
        "\n",
        "\n",
        "def plot_stats():\n",
        "  global epsilon, episode_rewards, running_rewards, steps, steps_per_plot_update\n",
        "\n",
        "  display.clear_output(wait=True)\n",
        "  plt.title('Episode Rewards')\n",
        "  plt.xlabel('Episode')\n",
        "  plt.ylabel('Reward')\n",
        "  plt.plot(range(1, len(episode_rewards) + 1), episode_rewards, 'o', markersize=2)\n",
        "  plt.plot(range(1, len(running_rewards) * steps_per_plot_update + 1, steps_per_plot_update), running_rewards)\n",
        "  plt.show()\n",
        "  \n",
        "  print(f'Episodes: {len(episode_rewards)} | Steps: {steps} | Max Reward: {max(episode_rewards)} | Running Reward: {round(running_rewards[-1], 2)} | Epsilon: {round(epsilon, 4)}')"
      ]
    },
    {
      "cell_type": "markdown",
      "metadata": {
        "id": "U1AwpkNzHdui"
      },
      "source": [
        "### Define Training Settings"
      ]
    },
    {
      "cell_type": "code",
      "execution_count": 13,
      "metadata": {
        "id": "8wCCopGjHduj"
      },
      "outputs": [],
      "source": [
        "max_running_reward = 60\n",
        "batch_size = 32\n",
        "gamma = 0.99\n",
        "epsilon_start = 1.0\n",
        "epsilon_end = 0.0\n",
        "epsilon_random_frames = 50000\n",
        "epsilon_greedy_frames = 3000000\n",
        "replay_memory_size = 100000\n",
        "frame_skip = 8\n",
        "steps_per_target_update = 10000\n",
        "steps_per_dqn_update = 4\n",
        "steps_per_plot_update = 500"
      ]
    },
    {
      "cell_type": "markdown",
      "metadata": {
        "id": "k3lfVvY9Qur_"
      },
      "source": [
        "### Train Agent"
      ]
    },
    {
      "cell_type": "code",
      "execution_count": 14,
      "metadata": {
        "colab": {
          "base_uri": "https://localhost:8080/",
          "height": 488
        },
        "id": "hQdWCw8Vh1SL",
        "outputId": "d09d541c-6f97-4d47-9bdd-cf507cdbdba6"
      },
      "outputs": [
        {
          "data": {
            "image/png": "[encoded data removed]",
            "text/plain": [
              "<Figure size 640x480 with 1 Axes>"
            ]
          },
          "metadata": {
            "image/png": {
              "height": 454,
              "width": 562
            }
          },
          "output_type": "display_data"
        },
        {
          "name": "stdout",
          "output_type": "stream",
          "text": [
            "Episodes: 65001 | Steps: 18610133 | Max Reward: 88 | Running Reward: 30.55 | Epsilon: 0.0021\n"
          ]
        },
        {
          "ename": "KeyboardInterrupt",
          "evalue": "",
          "output_type": "error",
          "traceback": [
            "\u001b[0;31m---------------------------------------------------------------------------\u001b[0m",
            "\u001b[0;31mKeyboardInterrupt\u001b[0m                         Traceback (most recent call last)",
            "\u001b[1;32m/home/paulscott/Documents/GitHub/Atari-Reinforcement-Learning/Atari_Reinforcement_Learning.ipynb Cell 36'\u001b[0m in \u001b[0;36m<cell line: 15>\u001b[0;34m()\u001b[0m\n\u001b[1;32m     <a href='vscode-notebook-cell:/home/paulscott/Documents/GitHub/Atari-Reinforcement-Learning/Atari_Reinforcement_Learning.ipynb#ch0000035?line=20'>21</a>\u001b[0m action \u001b[39m=\u001b[39m select_action(state)\n\u001b[1;32m     <a href='vscode-notebook-cell:/home/paulscott/Documents/GitHub/Atari-Reinforcement-Learning/Atari_Reinforcement_Learning.ipynb#ch0000035?line=22'>23</a>\u001b[0m \u001b[39m# perform action and get reward\u001b[39;00m\n\u001b[0;32m---> <a href='vscode-notebook-cell:/home/paulscott/Documents/GitHub/Atari-Reinforcement-Learning/Atari_Reinforcement_Learning.ipynb#ch0000035?line=23'>24</a>\u001b[0m next_state, reward, done \u001b[39m=\u001b[39m env\u001b[39m.\u001b[39;49mstep(action, frame_skip)\n\u001b[1;32m     <a href='vscode-notebook-cell:/home/paulscott/Documents/GitHub/Atari-Reinforcement-Learning/Atari_Reinforcement_Learning.ipynb#ch0000035?line=24'>25</a>\u001b[0m total_reward \u001b[39m+\u001b[39m\u001b[39m=\u001b[39m reward\n\u001b[1;32m     <a href='vscode-notebook-cell:/home/paulscott/Documents/GitHub/Atari-Reinforcement-Learning/Atari_Reinforcement_Learning.ipynb#ch0000035?line=26'>27</a>\u001b[0m \u001b[39m# add to replay memory\u001b[39;00m\n",
            "\u001b[1;32m/home/paulscott/Documents/GitHub/Atari-Reinforcement-Learning/Atari_Reinforcement_Learning.ipynb Cell 14'\u001b[0m in \u001b[0;36mALEEnvironment.step\u001b[0;34m(self, action, frame_skip)\u001b[0m\n\u001b[1;32m     <a href='vscode-notebook-cell:/home/paulscott/Documents/GitHub/Atari-Reinforcement-Learning/Atari_Reinforcement_Learning.ipynb#ch0000013?line=24'>25</a>\u001b[0m reward \u001b[39m=\u001b[39m \u001b[39mself\u001b[39m\u001b[39m.\u001b[39menv\u001b[39m.\u001b[39mact(\u001b[39mself\u001b[39m\u001b[39m.\u001b[39maction_space[action])\n\u001b[1;32m     <a href='vscode-notebook-cell:/home/paulscott/Documents/GitHub/Atari-Reinforcement-Learning/Atari_Reinforcement_Learning.ipynb#ch0000013?line=25'>26</a>\u001b[0m \u001b[39mfor\u001b[39;00m _ \u001b[39min\u001b[39;00m \u001b[39mrange\u001b[39m(frame_skip):\n\u001b[0;32m---> <a href='vscode-notebook-cell:/home/paulscott/Documents/GitHub/Atari-Reinforcement-Learning/Atari_Reinforcement_Learning.ipynb#ch0000013?line=26'>27</a>\u001b[0m   reward \u001b[39m+\u001b[39m\u001b[39m=\u001b[39m \u001b[39mself\u001b[39;49m\u001b[39m.\u001b[39;49menv\u001b[39m.\u001b[39;49mact(\u001b[39mself\u001b[39;49m\u001b[39m.\u001b[39;49maction_space[action])\n\u001b[1;32m     <a href='vscode-notebook-cell:/home/paulscott/Documents/GitHub/Atari-Reinforcement-Learning/Atari_Reinforcement_Learning.ipynb#ch0000013?line=27'>28</a>\u001b[0m \u001b[39mself\u001b[39m\u001b[39m.\u001b[39mframe_stack\u001b[39m.\u001b[39mpopleft()\n\u001b[1;32m     <a href='vscode-notebook-cell:/home/paulscott/Documents/GitHub/Atari-Reinforcement-Learning/Atari_Reinforcement_Learning.ipynb#ch0000013?line=28'>29</a>\u001b[0m \u001b[39mif\u001b[39;00m \u001b[39mself\u001b[39m\u001b[39m.\u001b[39mstack_rgb:\n",
            "\u001b[0;31mKeyboardInterrupt\u001b[0m: "
          ]
        }
      ],
      "source": [
        "# initialize dqn and target dqn\n",
        "dqn = dqn_class().to(device)\n",
        "dqn_target = dqn_class().to(device)\n",
        "dqn_target.load_state_dict(dqn.state_dict())\n",
        "\n",
        "# initialize replay memory and training loss and optimizer\n",
        "replay_memory = ReplayMemory(replay_memory_size)\n",
        "criterion = nn.HuberLoss()\n",
        "optimizer = Adam(dqn.parameters(), lr=0.00025)\n",
        "\n",
        "steps = 0\n",
        "epsilon = epsilon_start\n",
        "episode_rewards, running_rewards = [], []\n",
        "\n",
        "for episode in count():\n",
        "  state = env.reset()\n",
        "  total_reward = 0\n",
        "\n",
        "  for t in count(): \n",
        "    # select action using epsilon greedy strategy\n",
        "    action = select_action(state)\n",
        "\n",
        "    # perform action and get reward\n",
        "    next_state, reward, done = env.step(action, frame_skip)\n",
        "    total_reward += reward\n",
        "\n",
        "    # add to replay memory\n",
        "    reward = torch.tensor([reward], device=device)\n",
        "    replay_memory.push(state, action, reward, None if done else next_state)\n",
        "    state = next_state\n",
        "\n",
        "    # train dqn on data saved to replay memory\n",
        "    if steps % steps_per_dqn_update == 0:\n",
        "      train_dqn()\n",
        "\n",
        "    # update target dqn with weights from main dqn\n",
        "    if steps % steps_per_plot_update == 0:\n",
        "      dqn_target.load_state_dict(dqn.state_dict())\n",
        "    \n",
        "    # check if game is over\n",
        "    if env.game_over():\n",
        "      episode_rewards.append(total_reward)\n",
        "      if len(running_rewards) == 0:\n",
        "        running_rewards.append(total_reward)\n",
        "      elif episode % steps_per_plot_update == 0:\n",
        "        running_rewards.append(np.mean(episode_rewards[episode-steps_per_plot_update:episode]))\n",
        "      if episode % steps_per_plot_update == 0:\n",
        "        plot_stats()\n",
        "      break\n",
        "\n",
        "  # stop training once max score is reached\n",
        "  if running_rewards[-1] >= max_running_reward:\n",
        "    plot_stats()\n",
        "    break"
      ]
    },
    {
      "cell_type": "markdown",
      "metadata": {
        "id": "gkHjZq0d26fH"
      },
      "source": [
        "### Save Trained Agent"
      ]
    },
    {
      "cell_type": "code",
      "execution_count": null,
      "metadata": {
        "id": "7cJG9GsB28lg"
      },
      "outputs": [],
      "source": [
        "torch.save(dqn.state_dict(), 'saved_models/mspacman_dqn.pt')\n",
        "torch.save(dqn_target.state_dict(), 'saved_models/mspacman_target.pt')"
      ]
    },
    {
      "cell_type": "markdown",
      "metadata": {
        "id": "lZfP4x7q-5S6"
      },
      "source": [
        "# Results"
      ]
    },
    {
      "cell_type": "markdown",
      "metadata": {
        "id": "fjgBliil5lSG"
      },
      "source": [
        "### Load Trained Agent"
      ]
    },
    {
      "cell_type": "code",
      "execution_count": null,
      "metadata": {
        "id": "60z6iOiK5mx6"
      },
      "outputs": [],
      "source": [
        "dqn = dqn_class(env).to(device)\n",
        "dqn_target = dqn_class(env).to(device)\n",
        "\n",
        "dqn.load_state_dict(torch.load('saved_models/mspacman_dqn.pt'))\n",
        "dqn_target.load_state_dict(torch.load('saved_models/mspacman_dqn_target.pt'))"
      ]
    },
    {
      "cell_type": "markdown",
      "metadata": {
        "id": "mhgZCHh3S5Ot"
      },
      "source": [
        "### Run Game With Trained Agent"
      ]
    },
    {
      "cell_type": "code",
      "execution_count": null,
      "metadata": {
        "colab": {
          "base_uri": "https://localhost:8080/"
        },
        "id": "BgkrH_qWpCgE",
        "outputId": "60166ab6-04be-41b2-997c-3159fb227086"
      },
      "outputs": [],
      "source": [
        "final_score = 20\n",
        "\n",
        "total_reward = 0\n",
        "reward_history = []\n",
        "while total_reward < final_score:\n",
        "  state = env.reset()\n",
        "  total_reward = 0\n",
        "  frames = [env.render()]\n",
        "\n",
        "  for t in count():\n",
        "    if random.random() > 0.02:\n",
        "      action = dqn(state).max(1)[1].view(1, 1)\n",
        "    else:\n",
        "      torch.tensor([[random.randrange(env.num_actions)]], device=device, dtype=torch.long)\n",
        "    state, reward, done = env.step(action, frame_skip)\n",
        "    total_reward += reward\n",
        "    \n",
        "    frames.append(env.render())\n",
        "    \n",
        "    if done or total_reward >= final_score:\n",
        "      reward_history.append(total_reward)\n",
        "      print(f'\\rEpisodes: {len(reward_history)} | Max Score: {max(reward_history)}', end='')\n",
        "      break"
      ]
    },
    {
      "cell_type": "markdown",
      "metadata": {
        "id": "9me_hyEoviwI"
      },
      "source": [
        "### Visualize Gameplay"
      ]
    },
    {
      "cell_type": "code",
      "execution_count": null,
      "metadata": {
        "colab": {
          "background_save": true,
          "base_uri": "https://localhost:8080/",
          "height": 584
        },
        "id": "Kc3_C0MlukEE",
        "outputId": "fc76ba9d-fba5-451f-9d8f-97dde1781667"
      },
      "outputs": [],
      "source": [
        "fig, ax = plt.subplots()\n",
        "fig.tight_layout(pad=0)\n",
        "ax.get_xaxis().set_visible(False)\n",
        "ax.get_yaxis().set_visible(False)\n",
        "ax.axis('off')\n",
        "\n",
        "def get_frame(index):\n",
        "  ax.clear()\n",
        "  return ax.imshow(frames[index], aspect=env.aspect, cmap=env.cmap)\n",
        "\n",
        "plt.close()\n",
        "gameplay = animation.FuncAnimation(fig, get_frame, frames=len(frames), interval=50)\n",
        "gameplay"
      ]
    },
    {
      "cell_type": "markdown",
      "metadata": {
        "id": "pujc-IrK1Gte"
      },
      "source": [
        "### Save Gameplay as GIF"
      ]
    },
    {
      "cell_type": "code",
      "execution_count": null,
      "metadata": {
        "id": "97qHw_jk1Gte"
      },
      "outputs": [],
      "source": [
        "gameplay.save('pong.gif', writer='ffmpeg', fps=30)"
      ]
    }
  ],
  "metadata": {
    "accelerator": "GPU",
    "colab": {
      "collapsed_sections": [],
      "machine_shape": "hm",
      "name": "Copy of Atari Reinforcement Learning.ipynb",
      "provenance": []
    },
    "interpreter": {
      "hash": "1bdf2eaed62a5898b0a69d4c8adec4b0ea9657cc1f97a559901a9b3e3bb02e72"
    },
    "kernelspec": {
      "display_name": "Python 3.9.12 ('base')",
      "language": "python",
      "name": "python3"
    },
    "language_info": {
      "codemirror_mode": {
        "name": "ipython",
        "version": 3
      },
      "file_extension": ".py",
      "mimetype": "text/x-python",
      "name": "python",
      "nbconvert_exporter": "python",
      "pygments_lexer": "ipython3",
      "version": "3.9.12"
    }
  },
  "nbformat": 4,
  "nbformat_minor": 0
}
